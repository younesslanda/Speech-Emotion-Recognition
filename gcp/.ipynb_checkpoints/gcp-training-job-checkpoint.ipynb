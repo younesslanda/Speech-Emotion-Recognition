{
 "cells": [
  {
   "cell_type": "markdown",
   "id": "13374d70-8acf-4e33-8f17-a7a2c2a5b3cb",
   "metadata": {
    "tags": []
   },
   "source": [
    "Description\n",
    "--"
   ]
  },
  {
   "cell_type": "markdown",
   "id": "1d702729-9967-4ba9-9907-df624c54ee59",
   "metadata": {},
   "source": [
    "We need a Google Cloud Platform project with billing enabled.</br>\n",
    "We first have to enable the `Cloud AI Platform Models API` and the `Compute Engine API`.</br>\n",
    "We then create an AI Platform Notebooks instance, then we select the latest `PyTorch` instance type (without/with ?????To determine?????? GPUs).</br>\n",
    "Once the instance has been created, we select `Open JupyterLab`:</br></br>\n",
    "After setting up the environment, we run the folling commands :"
   ]
  },
  {
   "cell_type": "code",
   "execution_count": 1,
   "id": "7ae4e516-5609-4723-8988-695538eb8364",
   "metadata": {},
   "outputs": [
    {
     "name": "stdout",
     "output_type": "stream",
     "text": [
      "gsutil version: 5.6\n",
      "checksum: 0988591864f8c3a8ca1ae43f519e6d15 (OK)\n",
      "boto version: 2.49.0\n",
      "python version: 3.8.11 (default, Dec 23 2021, 04:09:42) [Clang 12.0.1 ]\n",
      "OS: Linux 4.19.0-18-cloud-amd64\n",
      "multiprocessing available: True\n",
      "using cloud sdk: True\n",
      "pass cloud sdk credentials to gsutil: True\n",
      "config path(s): /etc/boto.cfg\n",
      "gsutil path: /usr/lib/google-cloud-sdk/bin/gsutil\n",
      "compiled crcmod: True\n",
      "installed via package manager: False\n",
      "editable install: False\n"
     ]
    }
   ],
   "source": [
    "!gsutil version -l"
   ]
  },
  {
   "cell_type": "code",
   "execution_count": 2,
   "id": "cab21971-3af9-41da-b267-271c0f75fa12",
   "metadata": {},
   "outputs": [],
   "source": [
    "GCP_PROJECT = 'My First Project'\n",
    "BUCKET_URL = 'gs://storage_bucket_speech'"
   ]
  },
  {
   "cell_type": "code",
   "execution_count": 3,
   "id": "2d8525f2-8170-447b-932c-eee595b00500",
   "metadata": {},
   "outputs": [
    {
     "name": "stdout",
     "output_type": "stream",
     "text": [
      "Creating gs://storage_bucket_speech/...\n",
      "ServiceException: 409 A Cloud Storage bucket named 'storage_bucket_speech' already exists. Try another name. Bucket names must be globally unique across all Google Cloud projects, including those outside of your organization.\n"
     ]
    }
   ],
   "source": [
    "!gsutil mb $BUCKET_URL"
   ]
  },
  {
   "cell_type": "markdown",
   "id": "686886c1-04c2-4e8e-bc45-3ce23909f51a",
   "metadata": {},
   "source": [
    " Store the data on Google Storage\n",
    " ---"
   ]
  },
  {
   "cell_type": "code",
   "execution_count": 8,
   "id": "e7ec4275-26f6-4c5c-8859-a1eef1b9e7af",
   "metadata": {},
   "outputs": [],
   "source": [
    "from IPython.display import clear_output"
   ]
  },
  {
   "cell_type": "code",
   "execution_count": 9,
   "id": "3c7ab93b-3f55-43b9-9660-be9f1a51e3e7",
   "metadata": {},
   "outputs": [],
   "source": [
    "train_path = '../feature-extraction/train/'\n",
    "test_path = '../feature-extraction/test/'\n",
    "valid_path = '../feature-extraction/valid/'"
   ]
  },
  {
   "cell_type": "code",
   "execution_count": 10,
   "id": "14f23ab7-a227-4cd9-bc6c-1f32c883c48b",
   "metadata": {
    "tags": []
   },
   "outputs": [],
   "source": [
    "!gsutil -m cp -r $train_path $BUCKET_URL\n",
    "!gsutil -m cp -r $test_path $BUCKET_URL\n",
    "!gsutil -m cp -r $valid_path $BUCKET_URL\n",
    "clear_output()"
   ]
  },
  {
   "cell_type": "code",
   "execution_count": null,
   "id": "7d4f885c-bd48-4a74-8d59-0f326be8a6c6",
   "metadata": {},
   "outputs": [],
   "source": []
  }
 ],
 "metadata": {
  "environment": {
   "kernel": "python3",
   "name": "pytorch-gpu.1-10.m90",
   "type": "gcloud",
   "uri": "gcr.io/deeplearning-platform-release/pytorch-gpu.1-10:m90"
  },
  "kernelspec": {
   "display_name": "Python 3",
   "language": "python",
   "name": "python3"
  },
  "language_info": {
   "codemirror_mode": {
    "name": "ipython",
    "version": 3
   },
   "file_extension": ".py",
   "mimetype": "text/x-python",
   "name": "python",
   "nbconvert_exporter": "python",
   "pygments_lexer": "ipython3",
   "version": "3.7.12"
  }
 },
 "nbformat": 4,
 "nbformat_minor": 5
}
