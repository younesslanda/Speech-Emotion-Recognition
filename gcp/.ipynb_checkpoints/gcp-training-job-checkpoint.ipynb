{
 "cells": [
  {
   "cell_type": "markdown",
   "id": "13374d70-8acf-4e33-8f17-a7a2c2a5b3cb",
   "metadata": {
    "tags": []
   },
   "source": [
    "Description\n",
    "--"
   ]
  },
  {
   "cell_type": "markdown",
   "id": "1d702729-9967-4ba9-9907-df624c54ee59",
   "metadata": {},
   "source": [
    "We need a Google Cloud Platform project with billing enabled.</br>\n",
    "We first have to enable the `Cloud AI Platform Models API` and the `Compute Engine API`.</br>\n",
    "We then create an AI Platform Notebooks instance, then we select the latest `PyTorch` instance type (without/with ?????To determine?????? GPUs).</br>\n",
    "Once the instance has been created, we select `Open JupyterLab`:</br></br>\n",
    "After setting up the environment, we run the folling commands :"
   ]
  },
  {
   "cell_type": "code",
   "execution_count": 1,
   "id": "7ae4e516-5609-4723-8988-695538eb8364",
   "metadata": {},
   "outputs": [
    {
     "name": "stdout",
     "output_type": "stream",
     "text": [
      "gsutil version: 5.6\n",
      "checksum: 0988591864f8c3a8ca1ae43f519e6d15 (OK)\n",
      "boto version: 2.49.0\n",
      "python version: 3.8.11 (default, Dec 23 2021, 04:09:42) [Clang 12.0.1 ]\n",
      "OS: Linux 4.19.0-18-cloud-amd64\n",
      "multiprocessing available: True\n",
      "using cloud sdk: True\n",
      "pass cloud sdk credentials to gsutil: True\n",
      "config path(s): /etc/boto.cfg\n",
      "gsutil path: /usr/lib/google-cloud-sdk/bin/gsutil\n",
      "compiled crcmod: True\n",
      "installed via package manager: False\n",
      "editable install: False\n"
     ]
    }
   ],
   "source": [
    "!gsutil version -l"
   ]
  },
  {
   "cell_type": "code",
   "execution_count": null,
   "id": "cab21971-3af9-41da-b267-271c0f75fa12",
   "metadata": {},
   "outputs": [],
   "source": []
  }
 ],
 "metadata": {
  "environment": {
   "kernel": "python3",
   "name": "pytorch-gpu.1-10.m90",
   "type": "gcloud",
   "uri": "gcr.io/deeplearning-platform-release/pytorch-gpu.1-10:m90"
  },
  "kernelspec": {
   "display_name": "Python 3",
   "language": "python",
   "name": "python3"
  },
  "language_info": {
   "codemirror_mode": {
    "name": "ipython",
    "version": 3
   },
   "file_extension": ".py",
   "mimetype": "text/x-python",
   "name": "python",
   "nbconvert_exporter": "python",
   "pygments_lexer": "ipython3",
   "version": "3.7.12"
  }
 },
 "nbformat": 4,
 "nbformat_minor": 5
}
