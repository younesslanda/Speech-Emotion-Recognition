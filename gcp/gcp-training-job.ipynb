{
 "cells": [
  {
   "cell_type": "markdown",
   "id": "13374d70-8acf-4e33-8f17-a7a2c2a5b3cb",
   "metadata": {
    "tags": []
   },
   "source": [
    "Description\n",
    "--"
   ]
  },
  {
   "cell_type": "markdown",
   "id": "1d702729-9967-4ba9-9907-df624c54ee59",
   "metadata": {},
   "source": [
    "We need a Google Cloud Platform project with billing enabled.</br>\n",
    "We first have to enable the `Cloud AI Platform Models API` and the `Compute Engine API`.</br>\n",
    "We then create an AI Platform Notebooks instance, then we select the latest `PyTorch` instance type (without/with ?????To determine?????? GPUs).</br>\n",
    "Once the instance has been created, we select `Open JupyterLab`:</br></br>\n",
    "After setting up the environment, we run the folling commands :"
   ]
  },
  {
   "cell_type": "code",
   "execution_count": 1,
   "id": "7ae4e516-5609-4723-8988-695538eb8364",
   "metadata": {},
   "outputs": [
    {
     "name": "stdout",
     "output_type": "stream",
     "text": [
      "gsutil version: 5.6\n",
      "checksum: 0988591864f8c3a8ca1ae43f519e6d15 (OK)\n",
      "boto version: 2.49.0\n",
      "python version: 3.8.11 (default, Dec 23 2021, 04:09:42) [Clang 12.0.1 ]\n",
      "OS: Linux 4.19.0-18-cloud-amd64\n",
      "multiprocessing available: True\n",
      "using cloud sdk: True\n",
      "pass cloud sdk credentials to gsutil: True\n",
      "config path(s): /etc/boto.cfg\n",
      "gsutil path: /usr/lib/google-cloud-sdk/bin/gsutil\n",
      "compiled crcmod: True\n",
      "installed via package manager: False\n",
      "editable install: False\n"
     ]
    }
   ],
   "source": [
    "!gsutil version -l"
   ]
  },
  {
   "cell_type": "code",
   "execution_count": 26,
   "id": "cab21971-3af9-41da-b267-271c0f75fa12",
   "metadata": {},
   "outputs": [],
   "source": [
    "GCP_PROJECT = 'My First Project'\n",
    "BUCKET_URL = 'gs://storage_bucket_speech'"
   ]
  },
  {
   "cell_type": "code",
   "execution_count": 3,
   "id": "2d8525f2-8170-447b-932c-eee595b00500",
   "metadata": {},
   "outputs": [
    {
     "name": "stdout",
     "output_type": "stream",
     "text": [
      "Creating gs://storage_bucket_speech/...\n",
      "ServiceException: 409 A Cloud Storage bucket named 'storage_bucket_speech' already exists. Try another name. Bucket names must be globally unique across all Google Cloud projects, including those outside of your organization.\n"
     ]
    }
   ],
   "source": [
    "!gsutil mb $BUCKET_URL"
   ]
  },
  {
   "cell_type": "markdown",
   "id": "8d8ae68e-ac3b-4892-bfcd-5d24549dd9c4",
   "metadata": {},
   "source": [
    "The bucket already exists because it was already created"
   ]
  },
  {
   "cell_type": "markdown",
   "id": "686886c1-04c2-4e8e-bc45-3ce23909f51a",
   "metadata": {},
   "source": [
    " Store the data on Google Storage\n",
    " ---"
   ]
  },
  {
   "cell_type": "code",
   "execution_count": 32,
   "id": "e7ec4275-26f6-4c5c-8859-a1eef1b9e7af",
   "metadata": {},
   "outputs": [],
   "source": [
    "from IPython.display import clear_output"
   ]
  },
  {
   "cell_type": "code",
   "execution_count": 25,
   "id": "3c7ab93b-3f55-43b9-9660-be9f1a51e3e7",
   "metadata": {},
   "outputs": [],
   "source": [
    "train_path = '../feature-extraction/train/'\n",
    "test_path = '../feature-extraction/test/'\n",
    "valid_path = '../feature-extraction/valid/'"
   ]
  },
  {
   "cell_type": "code",
   "execution_count": 10,
   "id": "14f23ab7-a227-4cd9-bc6c-1f32c883c48b",
   "metadata": {
    "tags": []
   },
   "outputs": [],
   "source": [
    "!gsutil -m cp -r $train_path $BUCKET_URL\n",
    "!gsutil -m cp -r $test_path $BUCKET_URL\n",
    "!gsutil -m cp -r $valid_path $BUCKET_URL\n",
    "clear_output()"
   ]
  },
  {
   "cell_type": "code",
   "execution_count": 21,
   "id": "2ac6938c-0f60-4dc6-892c-8659267ce5f3",
   "metadata": {},
   "outputs": [],
   "source": [
    "from trainer.config import Config as cfg"
   ]
  },
  {
   "cell_type": "code",
   "execution_count": 23,
   "id": "f89da9f3-256c-4038-88e7-80c746e153f3",
   "metadata": {},
   "outputs": [
    {
     "data": {
      "text/plain": [
       "128"
      ]
     },
     "execution_count": 23,
     "metadata": {},
     "output_type": "execute_result"
    }
   ],
   "source": [
    "cfg.N_MELS"
   ]
  },
  {
   "cell_type": "code",
   "execution_count": 19,
   "id": "a388f358-a908-48b0-82c4-ca201272c56e",
   "metadata": {},
   "outputs": [],
   "source": [
    "!touch ./trainer/model.py"
   ]
  },
  {
   "cell_type": "code",
   "execution_count": null,
   "id": "f698d442-8ef8-4c72-9adb-1aed3cf04468",
   "metadata": {},
   "outputs": [],
   "source": []
  },
  {
   "cell_type": "code",
   "execution_count": 1,
   "id": "7d4f885c-bd48-4a74-8d59-0f326be8a6c6",
   "metadata": {},
   "outputs": [],
   "source": [
    "from google.cloud import storage"
   ]
  },
  {
   "cell_type": "code",
   "execution_count": 2,
   "id": "a1ead070-4532-43b0-9762-b2cf4525b8cf",
   "metadata": {},
   "outputs": [],
   "source": [
    "import os, logging, json, pickle, argparse"
   ]
  },
  {
   "cell_type": "code",
   "execution_count": 3,
   "id": "dda04a72-d739-4f5c-bbba-a0a218b436c3",
   "metadata": {},
   "outputs": [
    {
     "name": "stdout",
     "output_type": "stream",
     "text": [
      "Collecting fastavro\n",
      "  Downloading fastavro-1.4.10-cp37-cp37m-manylinux_2_17_x86_64.manylinux2014_x86_64.whl (2.3 MB)\n",
      "\u001b[2K     \u001b[90m━━━━━━━━━━━━━━━━━━━━━━━━━━━━━━━━━━━━━━━━\u001b[0m \u001b[32m2.3/2.3 MB\u001b[0m \u001b[31m33.5 MB/s\u001b[0m eta \u001b[36m0:00:00\u001b[0ma \u001b[36m0:00:01\u001b[0m\n",
      "\u001b[?25hInstalling collected packages: fastavro\n",
      "Successfully installed fastavro-1.4.10\n"
     ]
    }
   ],
   "source": [
    "!pip install fastavro"
   ]
  },
  {
   "cell_type": "code",
   "execution_count": 4,
   "id": "bbc64576-39d0-49c1-b88c-00053dc52f22",
   "metadata": {},
   "outputs": [
    {
     "name": "stdout",
     "output_type": "stream",
     "text": [
      "Collecting avro\n",
      "  Downloading avro-1.11.0.tar.gz (83 kB)\n",
      "\u001b[2K     \u001b[90m━━━━━━━━━━━━━━━━━━━━━━━━━━━━━━━━━━━━━━━━\u001b[0m \u001b[32m83.4/83.4 KB\u001b[0m \u001b[31m5.3 MB/s\u001b[0m eta \u001b[36m0:00:00\u001b[0m\n",
      "\u001b[?25h  Installing build dependencies ... \u001b[?25ldone\n",
      "\u001b[?25h  Getting requirements to build wheel ... \u001b[?25ldone\n",
      "\u001b[?25h  Preparing metadata (pyproject.toml) ... \u001b[?25ldone\n",
      "\u001b[?25hRequirement already satisfied: typing-extensions in /opt/conda/lib/python3.7/site-packages (from avro) (4.1.1)\n",
      "Building wheels for collected packages: avro\n",
      "  Building wheel for avro (pyproject.toml) ... \u001b[?25ldone\n",
      "\u001b[?25h  Created wheel for avro: filename=avro-1.11.0-py2.py3-none-any.whl size=115926 sha256=a4198cdf24d1ae6ba8f99c3f65cd8230c458c9653a6393aa770e19b49ea56d49\n",
      "  Stored in directory: /home/jupyter/.cache/pip/wheels/7d/79/ec/d7acfd56e9934b311783689c07ffecf6af9bde172950927f6d\n",
      "Successfully built avro\n",
      "Installing collected packages: avro\n",
      "Successfully installed avro-1.11.0\n"
     ]
    }
   ],
   "source": [
    "!pip install avro"
   ]
  },
  {
   "cell_type": "code",
   "execution_count": 16,
   "id": "588ad682-d72f-430d-a9f0-037d50a9cb5e",
   "metadata": {},
   "outputs": [],
   "source": [
    "import avro.schema\n",
    "from avro.datafile import DataFileReader, DataFileWriter\n",
    "from avro.io import DatumReader, DatumWriter"
   ]
  },
  {
   "cell_type": "code",
   "execution_count": 10,
   "id": "70dad76f-fcc0-42a9-8d7b-9d8ba98448a9",
   "metadata": {},
   "outputs": [],
   "source": [
    "import json"
   ]
  },
  {
   "cell_type": "code",
   "execution_count": 20,
   "id": "f1434139-c3b8-4b3b-93c0-7961252d6ece",
   "metadata": {},
   "outputs": [],
   "source": [
    "schema = {\"namespace\": \"example.avro\",\n",
    " \"type\": \"record\",\n",
    " \"name\": \"User\",\n",
    " \"fields\": [\n",
    "     {\"name\": \"name\", \"type\": \"string\"},\n",
    "     {\"name\": \"favorite_number\",  \"type\": [\"int\", \"null\"]},\n",
    "     {\"name\": \"favorite_color\", \"type\": [\"string\", \"null\"]}\n",
    " ]\n",
    "}"
   ]
  },
  {
   "cell_type": "code",
   "execution_count": 21,
   "id": "dc208917-fa60-4d14-ae5f-f152a41d48b0",
   "metadata": {},
   "outputs": [],
   "source": [
    "schema = avro.schema.parse(json.dumps(schema))"
   ]
  },
  {
   "cell_type": "code",
   "execution_count": 22,
   "id": "7827c7fb-b92e-4952-922b-5ecafbe283a3",
   "metadata": {},
   "outputs": [],
   "source": [
    "writer = DataFileWriter(open(\"users.avro\", \"wb\"), DatumWriter(), schema)\n",
    "writer.append({\"name\": \"Alyssa\", \"favorite_number\": 256})\n",
    "writer.append({\"name\": \"Ben\", \"favorite_number\": 7, \"favorite_color\": \"red\"})\n",
    "writer.close()"
   ]
  },
  {
   "cell_type": "code",
   "execution_count": 23,
   "id": "0163b6e7-f7e0-4af0-81e5-d563ebfbaf97",
   "metadata": {},
   "outputs": [
    {
     "name": "stdout",
     "output_type": "stream",
     "text": [
      "{'name': 'Alyssa', 'favorite_number': 256, 'favorite_color': None}\n",
      "{'name': 'Ben', 'favorite_number': 7, 'favorite_color': 'red'}\n"
     ]
    }
   ],
   "source": [
    "reader = DataFileReader(open(\"users.avro\", \"rb\"), DatumReader())\n",
    "for user in reader:\n",
    "    print(user)\n",
    "reader.close()"
   ]
  },
  {
   "cell_type": "code",
   "execution_count": 27,
   "id": "0b635167-7536-46e9-b65c-722cada4cf87",
   "metadata": {},
   "outputs": [],
   "source": [
    "import os"
   ]
  },
  {
   "cell_type": "code",
   "execution_count": 31,
   "id": "b88b5740-2b1f-42af-be98-c4d2d87dc3f6",
   "metadata": {},
   "outputs": [
    {
     "data": {
      "text/plain": [
       "'gs://storage_bucket_speech/test'"
      ]
     },
     "execution_count": 31,
     "metadata": {},
     "output_type": "execute_result"
    }
   ],
   "source": [
    "os.path.join(BUCKET_URL,'test')"
   ]
  },
  {
   "cell_type": "code",
   "execution_count": 49,
   "id": "00837fcc-1fa2-45d3-b2aa-dc3a15a6a900",
   "metadata": {},
   "outputs": [],
   "source": [
    "import subprocess"
   ]
  },
  {
   "cell_type": "code",
   "execution_count": 47,
   "id": "835086cf-0dc1-4175-9ce9-fec6e81a33a7",
   "metadata": {},
   "outputs": [],
   "source": [
    "TRAIN_DATA_DIR = 'tr'\n",
    "LOCAL_PATH = 'loc'\n",
    "\n",
    "if not os.path.exists(TRAIN_DATA_DIR):\n",
    "    os.mkdir(LOCAL_PATH)\n",
    "    \n",
    "if not os.path.exists(TRAIN_DATA_DIR):\n",
    "    os.mkdir(os.path.join(LOCAL_PATH, TRAIN_DATA_DIR))"
   ]
  },
  {
   "cell_type": "code",
   "execution_count": 39,
   "id": "bc9d4383-b7e4-46b3-916d-5fc018c95d4a",
   "metadata": {},
   "outputs": [],
   "source": [
    "!mkdir test_dir"
   ]
  },
  {
   "cell_type": "code",
   "execution_count": 42,
   "id": "ac18431f-b0fa-4422-be04-ae21c572196b",
   "metadata": {},
   "outputs": [
    {
     "data": {
      "text/plain": [
       "303"
      ]
     },
     "execution_count": 42,
     "metadata": {},
     "output_type": "execute_result"
    }
   ],
   "source": [
    "len(os.listdir(download_path))"
   ]
  },
  {
   "cell_type": "code",
   "execution_count": 40,
   "id": "f1cddb55-fc11-4c9c-93fa-b6c48bc44497",
   "metadata": {},
   "outputs": [],
   "source": [
    "download_path = './test_dir'\n",
    "gcs_dir_path = 'gs://storage_bucket_speech/test/*.pickle'"
   ]
  },
  {
   "cell_type": "code",
   "execution_count": 43,
   "id": "d2fc73a5-f646-4ba4-9153-391637c49162",
   "metadata": {},
   "outputs": [],
   "source": [
    "!gsutil -q -m cp $gcs_dir_path $download_path "
   ]
  },
  {
   "cell_type": "code",
   "execution_count": 44,
   "id": "f7cbafb2-7633-46a5-99b7-a6fd07ba61a8",
   "metadata": {},
   "outputs": [],
   "source": [
    "class rr:\n",
    "    \n",
    "    BUCKET_URL = 'gs://storage_bucket_speech'\n",
    "    TRAIN_DIR  = ''\n",
    "    VALID_DIR  = ''\n",
    "    TEST_DIR   = ''\n",
    "    \n",
    "    #Model parameters :\n",
    "    N_MELS              = 128\n",
    "    INPUT_SPEC_SIZE     = 3 * N_MELS\n",
    "    RNN_CELL            = 'lstm' # 'lstm' | 'gru'\n",
    "    CNN_FILTER_SIZE     = 64\n",
    "    \n",
    "    NUM_GENDER_CLASSES  = 2\n",
    "    NUM_EMOTION_CLASSES = 8"
   ]
  },
  {
   "cell_type": "code",
   "execution_count": 46,
   "id": "5db3a901-32ec-498c-9067-fbf02260a44b",
   "metadata": {},
   "outputs": [
    {
     "data": {
      "text/plain": [
       "64"
      ]
     },
     "execution_count": 46,
     "metadata": {},
     "output_type": "execute_result"
    }
   ],
   "source": [
    "rr.CNN_FILTER_SIZE"
   ]
  },
  {
   "cell_type": "code",
   "execution_count": 2,
   "id": "4331007c-8e84-4eec-a9b4-9053bd652bb7",
   "metadata": {},
   "outputs": [],
   "source": [
    "import torch"
   ]
  },
  {
   "cell_type": "code",
   "execution_count": 3,
   "id": "9d47406e-a1d7-4149-aa0a-5c15ce2de471",
   "metadata": {},
   "outputs": [
    {
     "data": {
      "text/plain": [
       "False"
      ]
     },
     "execution_count": 3,
     "metadata": {},
     "output_type": "execute_result"
    }
   ],
   "source": [
    "torch.cuda.is_available()"
   ]
  },
  {
   "cell_type": "code",
   "execution_count": 4,
   "id": "a3daeefd-8d03-40b7-a614-3c5545d60316",
   "metadata": {},
   "outputs": [
    {
     "data": {
      "text/plain": [
       "device(type='cpu')"
      ]
     },
     "execution_count": 4,
     "metadata": {},
     "output_type": "execute_result"
    }
   ],
   "source": [
    "torch.device('cuda' if torch.cuda.is_available() else 'cpu')"
   ]
  },
  {
   "cell_type": "code",
   "execution_count": 8,
   "id": "db3298a8-dda2-4b43-8ce7-fa77877e385f",
   "metadata": {},
   "outputs": [
    {
     "ename": "AttributeError",
     "evalue": "'tuple' object has no attribute 'to'",
     "output_type": "error",
     "traceback": [
      "\u001b[0;31m---------------------------------------------------------------------------\u001b[0m",
      "\u001b[0;31mAttributeError\u001b[0m                            Traceback (most recent call last)",
      "\u001b[0;32m/tmp/ipykernel_10747/1015075747.py\u001b[0m in \u001b[0;36m<module>\u001b[0;34m\u001b[0m\n\u001b[0;32m----> 1\u001b[0;31m \u001b[0;34m(\u001b[0m\u001b[0mtorch\u001b[0m\u001b[0;34m.\u001b[0m\u001b[0mtensor\u001b[0m\u001b[0;34m(\u001b[0m\u001b[0;34m[\u001b[0m\u001b[0;36m1\u001b[0m\u001b[0;34m]\u001b[0m\u001b[0;34m)\u001b[0m\u001b[0;34m,\u001b[0m \u001b[0mtorch\u001b[0m\u001b[0;34m.\u001b[0m\u001b[0mtensor\u001b[0m\u001b[0;34m(\u001b[0m\u001b[0;34m[\u001b[0m\u001b[0;36m1\u001b[0m\u001b[0;34m]\u001b[0m\u001b[0;34m)\u001b[0m\u001b[0;34m)\u001b[0m\u001b[0;34m.\u001b[0m\u001b[0mto\u001b[0m\u001b[0;34m(\u001b[0m\u001b[0mdevice\u001b[0m\u001b[0;34m)\u001b[0m\u001b[0;34m\u001b[0m\u001b[0;34m\u001b[0m\u001b[0m\n\u001b[0m",
      "\u001b[0;31mAttributeError\u001b[0m: 'tuple' object has no attribute 'to'"
     ]
    }
   ],
   "source": [
    "(torch.tensor([1]), torch.tensor([1])).to(device)"
   ]
  },
  {
   "cell_type": "code",
   "execution_count": null,
   "id": "e9903bd6-9981-4316-be66-53f3f509713e",
   "metadata": {},
   "outputs": [],
   "source": []
  }
 ],
 "metadata": {
  "environment": {
   "kernel": "python3",
   "name": "pytorch-gpu.1-10.m90",
   "type": "gcloud",
   "uri": "gcr.io/deeplearning-platform-release/pytorch-gpu.1-10:m90"
  },
  "kernelspec": {
   "display_name": "Python 3",
   "language": "python",
   "name": "python3"
  },
  "language_info": {
   "codemirror_mode": {
    "name": "ipython",
    "version": 3
   },
   "file_extension": ".py",
   "mimetype": "text/x-python",
   "name": "python",
   "nbconvert_exporter": "python",
   "pygments_lexer": "ipython3",
   "version": "3.7.12"
  }
 },
 "nbformat": 4,
 "nbformat_minor": 5
}
