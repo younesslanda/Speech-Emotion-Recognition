{
 "cells": [
  {
   "cell_type": "markdown",
   "id": "13374d70-8acf-4e33-8f17-a7a2c2a5b3cb",
   "metadata": {
    "tags": []
   },
   "source": [
    "Description\n",
    "--"
   ]
  },
  {
   "cell_type": "markdown",
   "id": "1d702729-9967-4ba9-9907-df624c54ee59",
   "metadata": {},
   "source": [
    "We need a Google Cloud Platform project with billing enabled.</br>\n",
    "We first have to enable the `Cloud AI Platform Models API` and the `Compute Engine API`.</br>\n",
    "We then create an AI Platform Notebooks instance, then we select the latest `PyTorch` instance type (without/with ?????To determine?????? GPUs).</br>\n",
    "Once the instance has been created, we select `Open JupyterLab`:</br></br>\n",
    "After setting up the environment, we run the folling commands :"
   ]
  },
  {
   "cell_type": "code",
   "execution_count": 1,
   "id": "7ae4e516-5609-4723-8988-695538eb8364",
   "metadata": {},
   "outputs": [
    {
     "name": "stdout",
     "output_type": "stream",
     "text": [
      "gsutil version: 5.6\n",
      "checksum: 0988591864f8c3a8ca1ae43f519e6d15 (OK)\n",
      "boto version: 2.49.0\n",
      "python version: 3.8.11 (default, Dec 23 2021, 04:09:42) [Clang 12.0.1 ]\n",
      "OS: Linux 4.19.0-18-cloud-amd64\n",
      "multiprocessing available: True\n",
      "using cloud sdk: True\n",
      "pass cloud sdk credentials to gsutil: True\n",
      "config path(s): /etc/boto.cfg\n",
      "gsutil path: /usr/lib/google-cloud-sdk/bin/gsutil\n",
      "compiled crcmod: True\n",
      "installed via package manager: False\n",
      "editable install: False\n"
     ]
    }
   ],
   "source": [
    "!gsutil version -l"
   ]
  },
  {
   "cell_type": "code",
   "execution_count": 2,
   "id": "cab21971-3af9-41da-b267-271c0f75fa12",
   "metadata": {},
   "outputs": [],
   "source": [
    "GCP_PROJECT = 'My First Project'\n",
    "BUCKET_URL = 'gs://storage_bucket_speech'"
   ]
  },
  {
   "cell_type": "code",
   "execution_count": 3,
   "id": "2d8525f2-8170-447b-932c-eee595b00500",
   "metadata": {},
   "outputs": [
    {
     "name": "stdout",
     "output_type": "stream",
     "text": [
      "Creating gs://storage_bucket_speech/...\n",
      "ServiceException: 409 A Cloud Storage bucket named 'storage_bucket_speech' already exists. Try another name. Bucket names must be globally unique across all Google Cloud projects, including those outside of your organization.\n"
     ]
    }
   ],
   "source": [
    "!gsutil mb $BUCKET_URL"
   ]
  },
  {
   "cell_type": "markdown",
   "id": "8d8ae68e-ac3b-4892-bfcd-5d24549dd9c4",
   "metadata": {},
   "source": [
    "The bucket already exists because it was already created"
   ]
  },
  {
   "cell_type": "markdown",
   "id": "686886c1-04c2-4e8e-bc45-3ce23909f51a",
   "metadata": {
    "jp-MarkdownHeadingCollapsed": true,
    "tags": []
   },
   "source": [
    " Store the data on Google Storage\n",
    " ---"
   ]
  },
  {
   "cell_type": "code",
   "execution_count": 4,
   "id": "3c7ab93b-3f55-43b9-9660-be9f1a51e3e7",
   "metadata": {},
   "outputs": [],
   "source": [
    "train_path = '../feature-extraction/train/'\n",
    "test_path  = '../feature-extraction/test/'\n",
    "valid_path = '../feature-extraction/valid/'"
   ]
  },
  {
   "cell_type": "code",
   "execution_count": 5,
   "id": "14f23ab7-a227-4cd9-bc6c-1f32c883c48b",
   "metadata": {
    "tags": []
   },
   "outputs": [],
   "source": [
    "!gsutil -m -q cp -r $train_path $BUCKET_URL\n",
    "!gsutil -m -q cp -r $test_path $BUCKET_URL\n",
    "!gsutil -m -q cp -r $valid_path $BUCKET_URL"
   ]
  },
  {
   "cell_type": "markdown",
   "id": "e40b7f3b-119e-4ddc-ae84-ea6f31693e3f",
   "metadata": {},
   "source": [
    "Setup for local training :\n",
    "---"
   ]
  },
  {
   "cell_type": "code",
   "execution_count": 5,
   "id": "17a86177-bc12-4501-b43f-73accd1bf09e",
   "metadata": {},
   "outputs": [],
   "source": [
    "REGION = \"us-west1-b\"\n",
    "SERVICE_ACCOUNT = \"156920671469-compute@developer.gserviceaccount.com\""
   ]
  },
  {
   "cell_type": "code",
   "execution_count": 6,
   "id": "f75f34e4-3038-47f8-a691-67719a23e77c",
   "metadata": {},
   "outputs": [],
   "source": [
    "content_name = \"pt-img-cls-gpu-cust\""
   ]
  },
  {
   "cell_type": "code",
   "execution_count": 7,
   "id": "634318aa-1738-4932-b9bd-3fc821de7283",
   "metadata": {},
   "outputs": [
    {
     "name": "stdout",
     "output_type": "stream",
     "text": [
      "Dockerfile   __pycache__  dataset.py\t model.py\t   task.py\n",
      "__init__.py  config.py\t  experiment.py  requirements.txt  utils.py\n"
     ]
    }
   ],
   "source": [
    "! ls trainer"
   ]
  },
  {
   "cell_type": "code",
   "execution_count": 8,
   "id": "16095dbf-6001-4cdd-9d9d-81f7c2cca04c",
   "metadata": {},
   "outputs": [
    {
     "name": "stdout",
     "output_type": "stream",
     "text": [
      "'torch==1.5.0'\n",
      "'tensorboard==2.5.0'\n",
      "'scikit-learn>=0.20'\n",
      "'seaborn==0.11.2'"
     ]
    }
   ],
   "source": [
    "! cat trainer/requirements.txt"
   ]
  },
  {
   "cell_type": "code",
   "execution_count": 11,
   "id": "f32f4a18-73cb-4333-b956-d048a66f3024",
   "metadata": {
    "collapsed": true,
    "jupyter": {
     "outputs_hidden": true
    },
    "tags": []
   },
   "outputs": [
    {
     "name": "stdout",
     "output_type": "stream",
     "text": [
      "Collecting torch==1.5.0\n",
      "  Downloading torch-1.5.0-cp37-cp37m-manylinux1_x86_64.whl (752.0 MB)\n",
      "\u001b[2K     \u001b[90m━━━━━━━━━━━━━━━━━━━━━━━━━━━━━━━━━━━━━━━\u001b[0m \u001b[32m752.0/752.0 MB\u001b[0m \u001b[31m1.3 MB/s\u001b[0m eta \u001b[36m0:00:00\u001b[0m00:01\u001b[0m00:01\u001b[0m\n",
      "\u001b[?25hCollecting tensorboard==2.5.0\n",
      "  Downloading tensorboard-2.5.0-py3-none-any.whl (6.0 MB)\n",
      "\u001b[2K     \u001b[90m━━━━━━━━━━━━━━━━━━━━━━━━━━━━━━━━━━━━━━━━\u001b[0m \u001b[32m6.0/6.0 MB\u001b[0m \u001b[31m15.5 MB/s\u001b[0m eta \u001b[36m0:00:00\u001b[0m:00:01\u001b[0m0:01\u001b[0m\n",
      "\u001b[?25hRequirement already satisfied: scikit-learn>=0.20 in /opt/conda/lib/python3.7/site-packages (from -r trainer/requirements.txt (line 3)) (1.0.2)\n",
      "Requirement already satisfied: seaborn==0.11.2 in /opt/conda/lib/python3.7/site-packages (from -r trainer/requirements.txt (line 4)) (0.11.2)\n",
      "Collecting future\n",
      "  Downloading future-0.18.2.tar.gz (829 kB)\n",
      "\u001b[2K     \u001b[90m━━━━━━━━━━━━━━━━━━━━━━━━━━━━━━━━━━━━━━\u001b[0m \u001b[32m829.2/829.2 KB\u001b[0m \u001b[31m30.0 MB/s\u001b[0m eta \u001b[36m0:00:00\u001b[0m\n",
      "\u001b[?25h  Preparing metadata (setup.py) ... \u001b[?25ldone\n",
      "\u001b[?25hRequirement already satisfied: numpy in /opt/conda/lib/python3.7/site-packages (from torch==1.5.0->-r trainer/requirements.txt (line 1)) (1.19.5)\n",
      "Requirement already satisfied: wheel>=0.26 in /opt/conda/lib/python3.7/site-packages (from tensorboard==2.5.0->-r trainer/requirements.txt (line 2)) (0.37.1)\n",
      "Collecting google-auth<2,>=1.6.3\n",
      "  Downloading google_auth-1.35.0-py2.py3-none-any.whl (152 kB)\n",
      "\u001b[2K     \u001b[90m━━━━━━━━━━━━━━━━━━━━━━━━━━━━━━━━━━━━━━\u001b[0m \u001b[32m152.9/152.9 KB\u001b[0m \u001b[31m22.1 MB/s\u001b[0m eta \u001b[36m0:00:00\u001b[0m\n",
      "\u001b[?25hRequirement already satisfied: requests<3,>=2.21.0 in /opt/conda/lib/python3.7/site-packages (from tensorboard==2.5.0->-r trainer/requirements.txt (line 2)) (2.27.1)\n",
      "Requirement already satisfied: werkzeug>=0.11.15 in /opt/conda/lib/python3.7/site-packages (from tensorboard==2.5.0->-r trainer/requirements.txt (line 2)) (2.0.3)\n",
      "Requirement already satisfied: markdown>=2.6.8 in /opt/conda/lib/python3.7/site-packages (from tensorboard==2.5.0->-r trainer/requirements.txt (line 2)) (3.3.6)\n",
      "Requirement already satisfied: protobuf>=3.6.0 in /opt/conda/lib/python3.7/site-packages (from tensorboard==2.5.0->-r trainer/requirements.txt (line 2)) (3.19.4)\n",
      "Requirement already satisfied: setuptools>=41.0.0 in /opt/conda/lib/python3.7/site-packages (from tensorboard==2.5.0->-r trainer/requirements.txt (line 2)) (59.8.0)\n",
      "Requirement already satisfied: tensorboard-plugin-wit>=1.6.0 in /opt/conda/lib/python3.7/site-packages (from tensorboard==2.5.0->-r trainer/requirements.txt (line 2)) (1.8.1)\n",
      "Requirement already satisfied: grpcio>=1.24.3 in /opt/conda/lib/python3.7/site-packages (from tensorboard==2.5.0->-r trainer/requirements.txt (line 2)) (1.44.0)\n",
      "Requirement already satisfied: tensorboard-data-server<0.7.0,>=0.6.0 in /opt/conda/lib/python3.7/site-packages (from tensorboard==2.5.0->-r trainer/requirements.txt (line 2)) (0.6.1)\n",
      "Requirement already satisfied: google-auth-oauthlib<0.5,>=0.4.1 in /opt/conda/lib/python3.7/site-packages (from tensorboard==2.5.0->-r trainer/requirements.txt (line 2)) (0.4.6)\n",
      "Requirement already satisfied: absl-py>=0.4 in /opt/conda/lib/python3.7/site-packages (from tensorboard==2.5.0->-r trainer/requirements.txt (line 2)) (1.0.0)\n",
      "Requirement already satisfied: scipy>=1.0 in /opt/conda/lib/python3.7/site-packages (from seaborn==0.11.2->-r trainer/requirements.txt (line 4)) (1.7.3)\n",
      "Requirement already satisfied: pandas>=0.23 in /opt/conda/lib/python3.7/site-packages (from seaborn==0.11.2->-r trainer/requirements.txt (line 4)) (1.3.5)\n",
      "Requirement already satisfied: matplotlib>=2.2 in /opt/conda/lib/python3.7/site-packages (from seaborn==0.11.2->-r trainer/requirements.txt (line 4)) (3.5.1)\n",
      "Requirement already satisfied: joblib>=0.11 in /opt/conda/lib/python3.7/site-packages (from scikit-learn>=0.20->-r trainer/requirements.txt (line 3)) (1.1.0)\n",
      "Requirement already satisfied: threadpoolctl>=2.0.0 in /opt/conda/lib/python3.7/site-packages (from scikit-learn>=0.20->-r trainer/requirements.txt (line 3)) (3.1.0)\n",
      "Requirement already satisfied: six in /opt/conda/lib/python3.7/site-packages (from absl-py>=0.4->tensorboard==2.5.0->-r trainer/requirements.txt (line 2)) (1.16.0)\n",
      "Requirement already satisfied: rsa<5,>=3.1.4 in /opt/conda/lib/python3.7/site-packages (from google-auth<2,>=1.6.3->tensorboard==2.5.0->-r trainer/requirements.txt (line 2)) (4.8)\n",
      "Requirement already satisfied: pyasn1-modules>=0.2.1 in /opt/conda/lib/python3.7/site-packages (from google-auth<2,>=1.6.3->tensorboard==2.5.0->-r trainer/requirements.txt (line 2)) (0.2.7)\n",
      "Collecting cachetools<5.0,>=2.0.0\n",
      "  Downloading cachetools-4.2.4-py3-none-any.whl (10 kB)\n",
      "Requirement already satisfied: requests-oauthlib>=0.7.0 in /opt/conda/lib/python3.7/site-packages (from google-auth-oauthlib<0.5,>=0.4.1->tensorboard==2.5.0->-r trainer/requirements.txt (line 2)) (1.3.1)\n",
      "Requirement already satisfied: importlib-metadata>=4.4 in /opt/conda/lib/python3.7/site-packages (from markdown>=2.6.8->tensorboard==2.5.0->-r trainer/requirements.txt (line 2)) (4.11.1)\n",
      "Requirement already satisfied: cycler>=0.10 in /opt/conda/lib/python3.7/site-packages (from matplotlib>=2.2->seaborn==0.11.2->-r trainer/requirements.txt (line 4)) (0.11.0)\n",
      "Requirement already satisfied: pillow>=6.2.0 in /opt/conda/lib/python3.7/site-packages (from matplotlib>=2.2->seaborn==0.11.2->-r trainer/requirements.txt (line 4)) (9.0.1)\n",
      "Requirement already satisfied: kiwisolver>=1.0.1 in /opt/conda/lib/python3.7/site-packages (from matplotlib>=2.2->seaborn==0.11.2->-r trainer/requirements.txt (line 4)) (1.3.2)\n",
      "Requirement already satisfied: packaging>=20.0 in /opt/conda/lib/python3.7/site-packages (from matplotlib>=2.2->seaborn==0.11.2->-r trainer/requirements.txt (line 4)) (21.3)\n",
      "Requirement already satisfied: fonttools>=4.22.0 in /opt/conda/lib/python3.7/site-packages (from matplotlib>=2.2->seaborn==0.11.2->-r trainer/requirements.txt (line 4)) (4.29.1)\n",
      "Requirement already satisfied: pyparsing>=2.2.1 in /opt/conda/lib/python3.7/site-packages (from matplotlib>=2.2->seaborn==0.11.2->-r trainer/requirements.txt (line 4)) (3.0.7)\n",
      "Requirement already satisfied: python-dateutil>=2.7 in /opt/conda/lib/python3.7/site-packages (from matplotlib>=2.2->seaborn==0.11.2->-r trainer/requirements.txt (line 4)) (2.8.2)\n",
      "Requirement already satisfied: pytz>=2017.3 in /opt/conda/lib/python3.7/site-packages (from pandas>=0.23->seaborn==0.11.2->-r trainer/requirements.txt (line 4)) (2021.3)\n",
      "Requirement already satisfied: urllib3<1.27,>=1.21.1 in /opt/conda/lib/python3.7/site-packages (from requests<3,>=2.21.0->tensorboard==2.5.0->-r trainer/requirements.txt (line 2)) (1.26.8)\n",
      "Requirement already satisfied: certifi>=2017.4.17 in /opt/conda/lib/python3.7/site-packages (from requests<3,>=2.21.0->tensorboard==2.5.0->-r trainer/requirements.txt (line 2)) (2021.10.8)\n",
      "Requirement already satisfied: charset-normalizer~=2.0.0 in /opt/conda/lib/python3.7/site-packages (from requests<3,>=2.21.0->tensorboard==2.5.0->-r trainer/requirements.txt (line 2)) (2.0.12)\n",
      "Requirement already satisfied: idna<4,>=2.5 in /opt/conda/lib/python3.7/site-packages (from requests<3,>=2.21.0->tensorboard==2.5.0->-r trainer/requirements.txt (line 2)) (3.3)\n",
      "Requirement already satisfied: zipp>=0.5 in /opt/conda/lib/python3.7/site-packages (from importlib-metadata>=4.4->markdown>=2.6.8->tensorboard==2.5.0->-r trainer/requirements.txt (line 2)) (3.7.0)\n",
      "Requirement already satisfied: typing-extensions>=3.6.4 in /opt/conda/lib/python3.7/site-packages (from importlib-metadata>=4.4->markdown>=2.6.8->tensorboard==2.5.0->-r trainer/requirements.txt (line 2)) (4.1.1)\n",
      "Requirement already satisfied: pyasn1<0.5.0,>=0.4.6 in /opt/conda/lib/python3.7/site-packages (from pyasn1-modules>=0.2.1->google-auth<2,>=1.6.3->tensorboard==2.5.0->-r trainer/requirements.txt (line 2)) (0.4.8)\n",
      "Requirement already satisfied: oauthlib>=3.0.0 in /opt/conda/lib/python3.7/site-packages (from requests-oauthlib>=0.7.0->google-auth-oauthlib<0.5,>=0.4.1->tensorboard==2.5.0->-r trainer/requirements.txt (line 2)) (3.2.0)\n",
      "Building wheels for collected packages: future\n",
      "  Building wheel for future (setup.py) ... \u001b[?25ldone\n",
      "\u001b[?25h  Created wheel for future: filename=future-0.18.2-py3-none-any.whl size=491070 sha256=fc43878b383af0a1402f50c31ac96402cdef0aeb7c6080d0562a61e8a02c03e5\n",
      "  Stored in directory: /home/jupyter/.cache/pip/wheels/56/b0/fe/4410d17b32f1f0c3cf54cdfb2bc04d7b4b8f4ae377e2229ba0\n",
      "Successfully built future\n",
      "Installing collected packages: future, cachetools, torch, google-auth, tensorboard\n",
      "  Attempting uninstall: cachetools\n",
      "    Found existing installation: cachetools 5.0.0\n",
      "    Uninstalling cachetools-5.0.0:\n",
      "      Successfully uninstalled cachetools-5.0.0\n",
      "  Attempting uninstall: torch\n",
      "    Found existing installation: torch 1.10.2\n",
      "    Uninstalling torch-1.10.2:\n",
      "      Successfully uninstalled torch-1.10.2\n",
      "  Attempting uninstall: google-auth\n",
      "    Found existing installation: google-auth 2.6.0\n",
      "    Uninstalling google-auth-2.6.0:\n",
      "      Successfully uninstalled google-auth-2.6.0\n",
      "  Attempting uninstall: tensorboard\n",
      "    Found existing installation: tensorboard 2.8.0\n",
      "    Uninstalling tensorboard-2.8.0:\n",
      "      Successfully uninstalled tensorboard-2.8.0\n",
      "\u001b[31mERROR: pip's dependency resolver does not currently take into account all the packages that are installed. This behaviour is the source of the following dependency conflicts.\n",
      "torchvision 0.11.1+cu111 requires torch==1.10.0, but you have torch 1.5.0 which is incompatible.\n",
      "torchaudio 0.10.2 requires torch==1.10.2, but you have torch 1.5.0 which is incompatible.\n",
      "google-cloud-aiplatform 1.10.0 requires google-cloud-storage<2.0.0dev,>=1.32.0, but you have google-cloud-storage 2.1.0 which is incompatible.\n",
      "fastai 2.5.3 requires torch<1.11,>=1.7.0, but you have torch 1.5.0 which is incompatible.\u001b[0m\u001b[31m\n",
      "\u001b[0mSuccessfully installed cachetools-4.2.4 future-0.18.2 google-auth-1.35.0 tensorboard-2.5.0 torch-1.5.0\n"
     ]
    }
   ],
   "source": [
    "! pip3 install -r trainer/requirements.txt"
   ]
  },
  {
   "cell_type": "code",
   "execution_count": null,
   "id": "79f0ce4c-aa0c-46d8-b0c9-8ecd72aa2815",
   "metadata": {},
   "outputs": [],
   "source": [
    "%run trainer/task.py"
   ]
  }
 ],
 "metadata": {
  "environment": {
   "kernel": "python3",
   "name": "pytorch-gpu.1-10.m90",
   "type": "gcloud",
   "uri": "gcr.io/deeplearning-platform-release/pytorch-gpu.1-10:m90"
  },
  "kernelspec": {
   "display_name": "Python 3",
   "language": "python",
   "name": "python3"
  },
  "language_info": {
   "codemirror_mode": {
    "name": "ipython",
    "version": 3
   },
   "file_extension": ".py",
   "mimetype": "text/x-python",
   "name": "python",
   "nbconvert_exporter": "python",
   "pygments_lexer": "ipython3",
   "version": "3.7.12"
  }
 },
 "nbformat": 4,
 "nbformat_minor": 5
}
